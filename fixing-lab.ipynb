{
 "cells": [
  {
   "cell_type": "markdown",
   "metadata": {},
   "source": [
    "## Correcting graphs"
   ]
  },
  {
   "attachments": {},
   "cell_type": "markdown",
   "metadata": {},
   "source": [
    "#### Immigration 2019"
   ]
  },
  {
   "cell_type": "code",
   "execution_count": 1,
   "metadata": {},
   "outputs": [],
   "source": [
    "import pandas as pd\n",
    "import os\n",
    "import networkx as nx"
   ]
  },
  {
   "cell_type": "code",
   "execution_count": null,
   "metadata": {},
   "outputs": [],
   "source": [
    "import pandas as pd\n",
    "import os\n",
    "import networkx as nx\n",
    "\n",
    "# Obtain from Gephi by modularity maximization\n",
    "\n",
    "subgraph_nodes = pd.read_csv('nodes-subgraph-immigration-2019.csv')  \n",
    "subgraph_edges = pd.read_csv('edges-subgraph-immigration-2019.csv')  \n",
    "\n",
    "relevant_nodes = set(subgraph_nodes.d0)"
   ]
  },
  {
   "cell_type": "code",
   "execution_count": null,
   "metadata": {},
   "outputs": [],
   "source": [
    "fullgraph = pd.read_csv(\"./pure-networks/2019/originals/IMMIGRATION_2019_edgelist.txt\", header=None)\n",
    "fullgraph.columns = [\"source\", \"target\", \"timestamp\"]"
   ]
  },
  {
   "cell_type": "code",
   "execution_count": null,
   "metadata": {},
   "outputs": [],
   "source": [
    "filtered_df = fullgraph.loc[(fullgraph['source'].isin(relevant_nodes)) & (fullgraph['target'].isin(relevant_nodes))]"
   ]
  },
  {
   "cell_type": "code",
   "execution_count": null,
   "metadata": {},
   "outputs": [],
   "source": [
    "path = \"./pure-networks/2019/\"\n",
    "network_context = \"IMMIGRATION_2019\"\n",
    "\n",
    "full_path_edgelist = os.path.join(path, network_context + \"_edgelist.txt\")\n",
    "filtered_df.to_csv(full_path_edgelist, index=False, header=False)\n",
    "\n",
    "full_path_graphml = os.path.join(path, network_context + \"_net.graphml\")\n",
    "G = nx.from_pandas_edgelist(filtered_df, create_using = nx.DiGraph())\n",
    "nx.write_graphml_lxml(G, full_path_graphml)"
   ]
  },
  {
   "cell_type": "markdown",
   "metadata": {},
   "source": [
    "#### SDP 2019"
   ]
  },
  {
   "cell_type": "code",
   "execution_count": null,
   "metadata": {},
   "outputs": [],
   "source": [
    "# Obtain from Gephi by modularity maximization\n",
    "\n",
    "subgraph_nodes = pd.read_csv('nodes-subgraph-sdp-2019.csv')  \n",
    "subgraph_edges = pd.read_csv('edges-subgraph-sdp-2019.csv')  \n",
    "\n",
    "relevant_nodes = set(subgraph_nodes.d0)\n",
    "\n",
    "fullgraph = pd.read_csv(\"./pure-networks/2019/originals/SDP_2019_edgelist.txt\", header=None)\n",
    "fullgraph.columns = [\"source\", \"target\", \"timestamp\"]\n",
    "\n",
    "filtered_df = fullgraph.loc[(fullgraph['source'].isin(relevant_nodes)) & (fullgraph['target'].isin(relevant_nodes))]\n",
    "\n",
    "path = \"./pure-networks/2019/\"\n",
    "network_context = \"SDP_2019\"\n",
    "\n",
    "full_path_edgelist = os.path.join(path, network_context + \"_edgelist.txt\")\n",
    "#filtered_df.to_csv(full_path_edgelist, index=False, header=False)\n",
    "\n",
    "full_path_graphml = os.path.join(path, network_context + \"_net.graphml\")\n",
    "G = nx.from_pandas_edgelist(filtered_df, create_using = nx.DiGraph())\n",
    "#nx.write_graphml_lxml(G, full_path_graphml)"
   ]
  },
  {
   "attachments": {},
   "cell_type": "markdown",
   "metadata": {},
   "source": [
    "#### PARTIES 2019"
   ]
  },
  {
   "cell_type": "code",
   "execution_count": 2,
   "metadata": {},
   "outputs": [],
   "source": [
    "# Obtain from Gephi by modularity maximization\n",
    "\n",
    "subgraph_nodes = pd.read_csv('nodes-subgraph-parties-2019.csv')  \n",
    "subgraph_edges = pd.read_csv('edges-subgraph-parties-2019.csv')  \n",
    "\n",
    "relevant_nodes = set(subgraph_nodes.d0)\n",
    "\n",
    "fullgraph = pd.read_csv(\"./pure-networks/2019/originals/PARTIES_2019_edgelist.txt\", header=None)\n",
    "fullgraph.columns = [\"source\", \"target\", \"timestamp\"]\n",
    "\n",
    "filtered_df = fullgraph.loc[(fullgraph['source'].isin(relevant_nodes)) & (fullgraph['target'].isin(relevant_nodes))]\n",
    "\n",
    "path = \"./pure-networks/2019/\"\n",
    "network_context = \"PARTIES_2019\"\n",
    "\n",
    "full_path_edgelist = os.path.join(path, network_context + \"_edgelist.txt\")\n",
    "filtered_df.to_csv(full_path_edgelist, index=False, header=False)\n",
    "\n",
    "full_path_graphml = os.path.join(path, network_context + \"_net.graphml\")\n",
    "G = nx.from_pandas_edgelist(filtered_df, create_using = nx.DiGraph())\n",
    "nx.write_graphml_lxml(G, full_path_graphml)"
   ]
  },
  {
   "attachments": {},
   "cell_type": "markdown",
   "metadata": {},
   "source": [
    "#### ECONOMIC POLICY 2023"
   ]
  },
  {
   "cell_type": "code",
   "execution_count": 3,
   "metadata": {},
   "outputs": [],
   "source": [
    "# Fixed by using only Finnish tweets"
   ]
  }
 ],
 "metadata": {
  "kernelspec": {
   "display_name": "networks",
   "language": "python",
   "name": "python3"
  },
  "language_info": {
   "codemirror_mode": {
    "name": "ipython",
    "version": 3
   },
   "file_extension": ".py",
   "mimetype": "text/x-python",
   "name": "python",
   "nbconvert_exporter": "python",
   "pygments_lexer": "ipython3",
   "version": "3.10.9"
  },
  "orig_nbformat": 4,
  "vscode": {
   "interpreter": {
    "hash": "9ac2a544d231e065a983bc013f13eb04c003f8cab54895e1be78107126ab5a16"
   }
  }
 },
 "nbformat": 4,
 "nbformat_minor": 2
}
