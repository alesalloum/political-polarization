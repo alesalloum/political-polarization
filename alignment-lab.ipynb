{
 "cells": [
  {
   "cell_type": "code",
   "execution_count": null,
   "metadata": {},
   "outputs": [],
   "source": [
    "import math\n",
    "import networkx as nx\n",
    "\n",
    "from tqdm import tqdm"
   ]
  },
  {
   "cell_type": "code",
   "execution_count": null,
   "metadata": {},
   "outputs": [],
   "source": [
    "def read_graphml_file(filename):\n",
    "    \"\"\"Reads a graph from a GraphML file and returns a NetworkX graph object.\"\"\"\n",
    "    try:\n",
    "        # Read the graph from the file\n",
    "        graph = nx.read_graphml(filename)\n",
    "\n",
    "        # Return the graph object\n",
    "        return graph\n",
    "    except Exception as e:\n",
    "        print(f\"Error: {e}\")\n",
    "        return None"
   ]
  },
  {
   "cell_type": "code",
   "execution_count": null,
   "metadata": {},
   "outputs": [],
   "source": [
    "#TOPICS = [\"CLIMATE_2023\", \"IMMIGRATION_2023\", \"SOCIAL_SECURITY_2023\", \"ECONOMIC_POLICY_2023\", \"EDUCATION_2023\", \"SDP_2023\", \"FINNS_2023\", \"NATIONAL_2023\", \"CENTER_2023\", \"GREEN_2023\", \"LEFT_2023\", \"PARTIES_2023\", \"EUROVISION_2023\", \"WILMAMURTO_2023\"]\n",
    "\n",
    "TOPICS = [\"CLIMATE_2019\", \"IMMIGRATION_2019\", \"SOCIAL_SECURITY_2019\", \"ECONOMIC_POLICY_2019\", \"EDUCATION_2019\", \"SDP_2019\", \"FINNS_2019\", \"NATIONAL_2019\", \"CENTER_2019\", \"GREEN_2019\", \"LEFT_2019\", \"PARTIES_2019\"]\n",
    "\n",
    "# CHANGE THE YEAR IN SCRIPT!"
   ]
  },
  {
   "cell_type": "code",
   "execution_count": null,
   "metadata": {},
   "outputs": [],
   "source": [
    "results = dict()\n",
    "\n",
    "whole_array_MI = []\n",
    "whole_array_NMI = []\n",
    "\n",
    "for T1 in tqdm(TOPICS):\n",
    "\n",
    "    row_vector_MI = []\n",
    "    row_vector_NMI = []\n",
    "\n",
    "    CLIMATE_2023 = read_graphml_file(f\"./rich-networks/2019/RICH_{T1}_NET.graphml\")\n",
    "\n",
    "    for T2 in TOPICS:\n",
    "        if T1 == T2:\n",
    "            row_vector_MI.append(1)\n",
    "            row_vector_NMI.append(1)\n",
    "            continue\n",
    "\n",
    "        #CLIMATE_2023 = read_graphml_file(f\"./rich-networks/2023/RICH_{T1}_NET.graphml\")\n",
    "        IMMIGRATION_2023 = read_graphml_file(f\"./rich-networks/2019/RICH_{T2}_NET.graphml\")\n",
    "\n",
    "        try:\n",
    "            CLIMATE_WHOLE = {data[\"user_id\"] for n, data in CLIMATE_2023.nodes(data=True)}\n",
    "            CLIMATE_CLUSTER_1 = {data[\"user_id\"] for n, data in CLIMATE_2023.nodes(data=True) if data['finetuned_cluster'] == 0}\n",
    "            CLIMATE_CLUSTER_2 = {data[\"user_id\"] for n, data in CLIMATE_2023.nodes(data=True) if data['finetuned_cluster'] == 1}\n",
    "\n",
    "            IMMIGRATION_WHOLE = {data[\"user_id\"] for n, data in IMMIGRATION_2023.nodes(data=True)}\n",
    "            IMMIGRATION_CLUSTER_1 = {data[\"user_id\"] for n, data in IMMIGRATION_2023.nodes(data=True) if data['finetuned_cluster'] == 0}\n",
    "            IMMIGRATION_CLUSTER_2 = {data[\"user_id\"] for n, data in IMMIGRATION_2023.nodes(data=True) if data['finetuned_cluster'] == 1}\n",
    "        except AttributeError:\n",
    "            #results[pair] = {\"MI\": None, \"NMI\": None}\n",
    "            print(\"debug\")\n",
    "            continue\n",
    "\n",
    "        CLIMATE_CLUSTER_1_IMMIGRATION_CLUSTER_1 = CLIMATE_CLUSTER_1 & IMMIGRATION_CLUSTER_1\n",
    "        CLIMATE_CLUSTER_1_IMMIGRATION_CLUSTER_2 = CLIMATE_CLUSTER_1 & IMMIGRATION_CLUSTER_2 \n",
    "        CLIMATE_CLUSTER_2_IMMIGRATION_CLUSTER_1 = CLIMATE_CLUSTER_2 & IMMIGRATION_CLUSTER_1 \n",
    "        CLIMATE_CLUSTER_2_IMMIGRATION_CLUSTER_2 = CLIMATE_CLUSTER_2 & IMMIGRATION_CLUSTER_2 \n",
    "\n",
    "        N_NODES_IN_BOTH = len(CLIMATE_WHOLE & IMMIGRATION_WHOLE)\n",
    "        FRACTION_OF_ALL_NODES = N_NODES_IN_BOTH/(len(CLIMATE_WHOLE) + len(IMMIGRATION_WHOLE))\n",
    "        FRACTION_OF_CLIMATE = N_NODES_IN_BOTH/len(CLIMATE_WHOLE)\n",
    "\n",
    "        # CLOSED SYSTEM\n",
    "        RELEVANT_NODES = CLIMATE_WHOLE & IMMIGRATION_WHOLE\n",
    "\n",
    "        REDUCED_CLIMATE_CLUSTER_1 = CLIMATE_CLUSTER_1 & RELEVANT_NODES\n",
    "        REDUCED_CLIMATE_CLUSTER_2 = CLIMATE_CLUSTER_2 & RELEVANT_NODES\n",
    "\n",
    "        REDUCED_IMMIGRATION_CLUSTER_1 = IMMIGRATION_CLUSTER_1 & RELEVANT_NODES\n",
    "        REDUCED_IMMIGRATION_CLUSTER_2 = IMMIGRATION_CLUSTER_2 & RELEVANT_NODES\n",
    "\n",
    "        # MARGINAL PROBABILITIES\n",
    "\n",
    "        P_CLIMATE_1 = len(REDUCED_CLIMATE_CLUSTER_1)/(len(REDUCED_CLIMATE_CLUSTER_1) + len(REDUCED_CLIMATE_CLUSTER_2))\n",
    "        P_CLIMATE_2 = len(REDUCED_CLIMATE_CLUSTER_2)/(len(REDUCED_CLIMATE_CLUSTER_1) + len(REDUCED_CLIMATE_CLUSTER_2))\n",
    "\n",
    "        P_IMMIGRATION_1 = len(REDUCED_IMMIGRATION_CLUSTER_1)/(len(REDUCED_IMMIGRATION_CLUSTER_1) + len(REDUCED_IMMIGRATION_CLUSTER_2))\n",
    "        P_IMMIGRATION_2 = len(REDUCED_IMMIGRATION_CLUSTER_2)/(len(REDUCED_IMMIGRATION_CLUSTER_1) + len(REDUCED_IMMIGRATION_CLUSTER_2))\n",
    "\n",
    "        # JOINT PROBABILITIES\n",
    "\n",
    "        P_CLIMATE_1_AND_IMMIGRATION_1 = len(CLIMATE_CLUSTER_1_IMMIGRATION_CLUSTER_1)/N_NODES_IN_BOTH\n",
    "        P_CLIMATE_1_AND_IMMIGRATION_2 = len(CLIMATE_CLUSTER_1_IMMIGRATION_CLUSTER_2)/N_NODES_IN_BOTH\n",
    "        P_CLIMATE_2_AND_IMMIGRATION_1 = len(CLIMATE_CLUSTER_2_IMMIGRATION_CLUSTER_1)/N_NODES_IN_BOTH\n",
    "        P_CLIMATE_2_AND_IMMIGRATION_2 = len(CLIMATE_CLUSTER_2_IMMIGRATION_CLUSTER_2)/N_NODES_IN_BOTH\n",
    "\n",
    "        # BELONGS TO CLIMATE_X GIVEN IMMIGRATION_1\n",
    "\n",
    "        P_CLIMATE_1_GIVEN_IMMIGRATION_1 = P_CLIMATE_1_AND_IMMIGRATION_1/P_IMMIGRATION_1\n",
    "        P_CLIMATE_2_GIVEN_IMMIGRATION_1 = P_CLIMATE_2_AND_IMMIGRATION_1/P_IMMIGRATION_1\n",
    "\n",
    "        # BELONGS TO CLIMATE_X GIVEN IMMIGRATION_2\n",
    "        P_CLIMATE_1_GIVEN_IMMIGRATION_1 = P_CLIMATE_1_AND_IMMIGRATION_2/P_IMMIGRATION_2\n",
    "        P_CLIMATE_2_GIVEN_IMMIGRATION_1 = P_CLIMATE_2_AND_IMMIGRATION_2/P_IMMIGRATION_2\n",
    "\n",
    "        joint_probs = [P_CLIMATE_1_AND_IMMIGRATION_1, P_CLIMATE_1_AND_IMMIGRATION_2, P_CLIMATE_2_AND_IMMIGRATION_1, P_CLIMATE_2_AND_IMMIGRATION_2]\n",
    "\n",
    "        #MI = joint_prob * math.log(joint_prob / (margin_prob_1 * margin_prob_2)) \n",
    "        MI_VEC = [P_CLIMATE_1_AND_IMMIGRATION_1 * math.log2(P_CLIMATE_1_AND_IMMIGRATION_1 / (P_CLIMATE_1 * P_IMMIGRATION_1)),\n",
    "                P_CLIMATE_1_AND_IMMIGRATION_2 * math.log2(P_CLIMATE_1_AND_IMMIGRATION_2 / (P_CLIMATE_1 * P_IMMIGRATION_2)),\n",
    "                P_CLIMATE_2_AND_IMMIGRATION_1 * math.log2(P_CLIMATE_2_AND_IMMIGRATION_1 / (P_CLIMATE_2 * P_IMMIGRATION_1)),\n",
    "                P_CLIMATE_2_AND_IMMIGRATION_2 * math.log2(P_CLIMATE_2_AND_IMMIGRATION_2 / (P_CLIMATE_2 * P_IMMIGRATION_2))]\n",
    "\n",
    "        MI = sum(MI_VEC)\n",
    "\n",
    "        H_x = -sum([P_CLIMATE_1 * math.log2(P_CLIMATE_1), P_CLIMATE_2 * math.log2(P_CLIMATE_2)])\n",
    "        H_y = -sum([P_IMMIGRATION_1 * math.log2(P_IMMIGRATION_1), P_IMMIGRATION_2 * math.log2(P_IMMIGRATION_2)])\n",
    "        \n",
    "        H_x_given_y = -sum([P_CLIMATE_1_AND_IMMIGRATION_1 * math.log2(P_CLIMATE_1_AND_IMMIGRATION_1 / P_IMMIGRATION_1),\n",
    "                        P_CLIMATE_1_AND_IMMIGRATION_2 * math.log2(P_CLIMATE_1_AND_IMMIGRATION_2 / P_IMMIGRATION_2),\n",
    "                        P_CLIMATE_2_AND_IMMIGRATION_1 * math.log2(P_CLIMATE_2_AND_IMMIGRATION_1 / P_IMMIGRATION_1),\n",
    "                        P_CLIMATE_2_AND_IMMIGRATION_2 * math.log2(P_CLIMATE_2_AND_IMMIGRATION_2 / P_IMMIGRATION_2)])\n",
    "        \n",
    "        NMI = 2 * ( (H_x - H_x_given_y) / (H_x + H_y) )\n",
    "\n",
    "        #results[pair] = {\"MI\": MI, \"NMI\": NMI}\n",
    "        row_vector_MI.append(MI)\n",
    "        row_vector_NMI.append(NMI)\n",
    "    \n",
    "    whole_array_MI.append(row_vector_MI)\n",
    "    whole_array_NMI.append(row_vector_NMI)"
   ]
  },
  {
   "cell_type": "code",
   "execution_count": null,
   "metadata": {},
   "outputs": [],
   "source": [
    "import numpy as np\n",
    "\n",
    "data_MI = np.asarray(whole_array_MI)\n",
    "data_NMI = np.asarray(whole_array_NMI)"
   ]
  },
  {
   "cell_type": "code",
   "execution_count": null,
   "metadata": {},
   "outputs": [],
   "source": [
    "import seaborn as sns\n",
    "import matplotlib.pyplot as plt\n",
    "import pandas as pd\n",
    "\n",
    "mask = np.zeros_like(data_NMI, dtype=bool)\n",
    "mask[np.tril_indices_from(mask)] = True\n",
    "\n",
    "# Creat fig.\n",
    "plt.figure(figsize=(12, 8))\n",
    "# Create a heatmap using seaborn\n",
    "sns.heatmap(data_NMI, cmap='YlGnBu', annot=True, xticklabels=TOPICS, yticklabels=TOPICS, mask=mask)\n",
    "\n",
    "# Move the x-axis to the top\n",
    "plt.gca().xaxis.tick_top()\n",
    "plt.gca().xaxis.set_label_position('top')\n",
    "plt.xticks(rotation=90)\n",
    "plt.xlabel('')\n",
    "plt.ylabel('')\n"
   ]
  },
  {
   "cell_type": "code",
   "execution_count": null,
   "metadata": {},
   "outputs": [],
   "source": [
    "df"
   ]
  },
  {
   "cell_type": "code",
   "execution_count": null,
   "metadata": {},
   "outputs": [],
   "source": [
    "CLIMATE_2023 = read_graphml_file(\"./rich-networks/2023/RICH_CLIMATE_2023_NET.graphml\")\n",
    "IMMIGRATION_2023 = read_graphml_file(\"./rich-networks/2023/RICH_IMMIGRATION_2023_NET.graphml\")"
   ]
  },
  {
   "cell_type": "code",
   "execution_count": null,
   "metadata": {},
   "outputs": [],
   "source": [
    "CLIMATE_WHOLE = {data[\"user_id\"] for n, data in CLIMATE_2023.nodes(data=True)}\n",
    "CLIMATE_CLUSTER_1 = {data[\"user_id\"] for n, data in CLIMATE_2023.nodes(data=True) if data['finetuned_cluster'] == 0}\n",
    "CLIMATE_CLUSTER_2 = {data[\"user_id\"] for n, data in CLIMATE_2023.nodes(data=True) if data['finetuned_cluster'] == 1}\n",
    "\n",
    "IMMIGRATION_WHOLE = {data[\"user_id\"] for n, data in IMMIGRATION_2023.nodes(data=True)}\n",
    "IMMIGRATION_CLUSTER_1 = {data[\"user_id\"] for n, data in IMMIGRATION_2023.nodes(data=True) if data['finetuned_cluster'] == 0}\n",
    "IMMIGRATION_CLUSTER_2 = {data[\"user_id\"] for n, data in IMMIGRATION_2023.nodes(data=True) if data['finetuned_cluster'] == 1}"
   ]
  },
  {
   "cell_type": "code",
   "execution_count": null,
   "metadata": {},
   "outputs": [],
   "source": [
    "CLIMATE_CLUSTER_1_IMMIGRATION_CLUSTER_1 = CLIMATE_CLUSTER_1 & IMMIGRATION_CLUSTER_1\n",
    "CLIMATE_CLUSTER_1_IMMIGRATION_CLUSTER_2 = CLIMATE_CLUSTER_1 & IMMIGRATION_CLUSTER_2 \n",
    "CLIMATE_CLUSTER_2_IMMIGRATION_CLUSTER_1 = CLIMATE_CLUSTER_2 & IMMIGRATION_CLUSTER_1 \n",
    "CLIMATE_CLUSTER_2_IMMIGRATION_CLUSTER_2 = CLIMATE_CLUSTER_2 & IMMIGRATION_CLUSTER_2 \n",
    "\n",
    "N_NODES_IN_BOTH = len(CLIMATE_WHOLE & IMMIGRATION_WHOLE)\n",
    "FRACTION_OF_ALL_NODES = N_NODES_IN_BOTH/(len(CLIMATE_WHOLE) + len(IMMIGRATION_WHOLE))\n",
    "FRACTION_OF_CLIMATE = N_NODES_IN_BOTH/len(CLIMATE_WHOLE)"
   ]
  },
  {
   "cell_type": "code",
   "execution_count": null,
   "metadata": {},
   "outputs": [],
   "source": [
    "# CLOSED SYSTEM\n",
    "RELEVANT_NODES = CLIMATE_WHOLE & IMMIGRATION_WHOLE\n",
    "\n",
    "REDUCED_CLIMATE_CLUSTER_1 = CLIMATE_CLUSTER_1 & RELEVANT_NODES\n",
    "REDUCED_CLIMATE_CLUSTER_2 = CLIMATE_CLUSTER_2 & RELEVANT_NODES\n",
    "\n",
    "REDUCED_IMMIGRATION_CLUSTER_1 = IMMIGRATION_CLUSTER_1 & RELEVANT_NODES\n",
    "REDUCED_IMMIGRATION_CLUSTER_2 = IMMIGRATION_CLUSTER_2 & RELEVANT_NODES\n",
    "\n",
    "# MARGINAL PROBABILITIES\n",
    "\n",
    "P_CLIMATE_1 = len(REDUCED_CLIMATE_CLUSTER_1)/(len(REDUCED_CLIMATE_CLUSTER_1) + len(REDUCED_CLIMATE_CLUSTER_2))\n",
    "P_CLIMATE_2 = len(REDUCED_CLIMATE_CLUSTER_2)/(len(REDUCED_CLIMATE_CLUSTER_1) + len(REDUCED_CLIMATE_CLUSTER_2))\n",
    "\n",
    "P_IMMIGRATION_1 = len(REDUCED_IMMIGRATION_CLUSTER_1)/(len(REDUCED_IMMIGRATION_CLUSTER_1) + len(REDUCED_IMMIGRATION_CLUSTER_2))\n",
    "P_IMMIGRATION_2 = len(REDUCED_IMMIGRATION_CLUSTER_2)/(len(REDUCED_IMMIGRATION_CLUSTER_1) + len(REDUCED_IMMIGRATION_CLUSTER_2))\n",
    "\n",
    "# JOINT PROBABILITIES\n",
    "\n",
    "P_CLIMATE_1_AND_IMMIGRATION_1 = len(CLIMATE_CLUSTER_1_IMMIGRATION_CLUSTER_1)/N_NODES_IN_BOTH\n",
    "P_CLIMATE_1_AND_IMMIGRATION_2 = len(CLIMATE_CLUSTER_1_IMMIGRATION_CLUSTER_2)/N_NODES_IN_BOTH\n",
    "P_CLIMATE_2_AND_IMMIGRATION_1 = len(CLIMATE_CLUSTER_2_IMMIGRATION_CLUSTER_1)/N_NODES_IN_BOTH\n",
    "P_CLIMATE_2_AND_IMMIGRATION_2 = len(CLIMATE_CLUSTER_2_IMMIGRATION_CLUSTER_2)/N_NODES_IN_BOTH"
   ]
  },
  {
   "cell_type": "code",
   "execution_count": null,
   "metadata": {},
   "outputs": [],
   "source": [
    "# BELONGS TO CLIMATE_X GIVEN IMMIGRATION_1\n",
    "\n",
    "P_CLIMATE_1_GIVEN_IMMIGRATION_1 = P_CLIMATE_1_AND_IMMIGRATION_1/P_IMMIGRATION_1\n",
    "P_CLIMATE_2_GIVEN_IMMIGRATION_1 = P_CLIMATE_2_AND_IMMIGRATION_1/P_IMMIGRATION_1\n",
    "\n",
    "# BELONGS TO CLIMATE_X GIVEN IMMIGRATION_2\n",
    "P_CLIMATE_1_GIVEN_IMMIGRATION_1 = P_CLIMATE_1_AND_IMMIGRATION_2/P_IMMIGRATION_2\n",
    "P_CLIMATE_2_GIVEN_IMMIGRATION_1 = P_CLIMATE_2_AND_IMMIGRATION_2/P_IMMIGRATION_2"
   ]
  },
  {
   "cell_type": "code",
   "execution_count": null,
   "metadata": {},
   "outputs": [],
   "source": [
    "import math\n",
    "\n",
    "joint_probs = [P_CLIMATE_1_AND_IMMIGRATION_1, P_CLIMATE_1_AND_IMMIGRATION_2, P_CLIMATE_2_AND_IMMIGRATION_1, P_CLIMATE_2_AND_IMMIGRATION_2]\n",
    "\n",
    "#MI = joint_prob * math.log(joint_prob / (margin_prob_1 * margin_prob_2)) \n",
    "MI_VEC = [P_CLIMATE_1_AND_IMMIGRATION_1 * math.log2(P_CLIMATE_1_AND_IMMIGRATION_1 / (P_CLIMATE_1 * P_IMMIGRATION_1)),\n",
    "          P_CLIMATE_1_AND_IMMIGRATION_2 * math.log2(P_CLIMATE_1_AND_IMMIGRATION_2 / (P_CLIMATE_1 * P_IMMIGRATION_2)),\n",
    "          P_CLIMATE_2_AND_IMMIGRATION_1 * math.log2(P_CLIMATE_2_AND_IMMIGRATION_1 / (P_CLIMATE_2 * P_IMMIGRATION_1)),\n",
    "          P_CLIMATE_2_AND_IMMIGRATION_2 * math.log2(P_CLIMATE_2_AND_IMMIGRATION_2 / (P_CLIMATE_2 * P_IMMIGRATION_2))]\n",
    "\n",
    "MI = sum(MI_VEC)"
   ]
  },
  {
   "cell_type": "code",
   "execution_count": null,
   "metadata": {},
   "outputs": [],
   "source": [
    "MI"
   ]
  },
  {
   "cell_type": "code",
   "execution_count": null,
   "metadata": {},
   "outputs": [],
   "source": [
    "H_x = -sum([P_CLIMATE_1 * math.log2(P_CLIMATE_1), P_CLIMATE_2 * math.log2(P_CLIMATE_2)])\n",
    "H_y = -sum([P_IMMIGRATION_1 * math.log2(P_IMMIGRATION_1), P_IMMIGRATION_2 * math.log2(P_IMMIGRATION_2)])\n",
    "\n",
    "H_x_given_y = -sum([P_CLIMATE_1_AND_IMMIGRATION_1 * math.log2(P_CLIMATE_1_AND_IMMIGRATION_1 / P_IMMIGRATION_1),\n",
    "                    P_CLIMATE_1_AND_IMMIGRATION_2 * math.log2(P_CLIMATE_1_AND_IMMIGRATION_2 / P_IMMIGRATION_2),\n",
    "                    P_CLIMATE_2_AND_IMMIGRATION_1 * math.log2(P_CLIMATE_2_AND_IMMIGRATION_1 / P_IMMIGRATION_1),\n",
    "                    P_CLIMATE_2_AND_IMMIGRATION_2 * math.log2(P_CLIMATE_2_AND_IMMIGRATION_2 / P_IMMIGRATION_2)])\n",
    "\n",
    "NMI = 2 * ( (H_x - H_x_given_y) / (H_x + H_y) )"
   ]
  },
  {
   "cell_type": "code",
   "execution_count": null,
   "metadata": {},
   "outputs": [],
   "source": [
    "NMI"
   ]
  }
 ],
 "metadata": {
  "kernelspec": {
   "display_name": "Python 3",
   "language": "python",
   "name": "python3"
  },
  "language_info": {
   "codemirror_mode": {
    "name": "ipython",
    "version": 3
   },
   "file_extension": ".py",
   "mimetype": "text/x-python",
   "name": "python",
   "nbconvert_exporter": "python",
   "pygments_lexer": "ipython3",
   "version": "3.8.6"
  },
  "vscode": {
   "interpreter": {
    "hash": "9ac2a544d231e065a983bc013f13eb04c003f8cab54895e1be78107126ab5a16"
   }
  }
 },
 "nbformat": 4,
 "nbformat_minor": 4
}
